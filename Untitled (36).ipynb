{
 "cells": [
  {
   "cell_type": "code",
   "execution_count": 1,
   "id": "b9a51398-b98c-4c0a-a019-1028ac8c8a51",
   "metadata": {},
   "outputs": [],
   "source": [
    "#Ans 1"
   ]
  },
  {
   "cell_type": "code",
   "execution_count": 2,
   "id": "163e8f0e-c366-4eeb-8dbb-27cd44d59460",
   "metadata": {},
   "outputs": [],
   "source": [
    "import numpy as np\n",
    "from scipy.stats import f\n",
    "\n",
    "def calculate_f_value(data1, data2):\n",
    "    # Calculate the variance of the two datasets\n",
    "    var1 = np.var(data1, ddof=1)\n",
    "    var2 = np.var(data2, ddof=1)\n",
    "\n",
    "    # Calculate the F-value\n",
    "    f_value = var1 / var2\n",
    "\n",
    "    # Calculate the degrees of freedom\n",
    "    dof1 = len(data1) - 1\n",
    "    dof2 = len(data2) - 1\n",
    "\n",
    "    # Calculate the p-value\n",
    "    p_value = f.sf(f_value, dof1, dof2)\n",
    "\n",
    "    return f_value, p_value\n"
   ]
  },
  {
   "cell_type": "code",
   "execution_count": 3,
   "id": "c19f937a-9f58-4192-bd24-d8f60ce47647",
   "metadata": {},
   "outputs": [],
   "source": [
    "# This function uses the numpy library to calculate the sample variances of the two datasets and the scipy.stats.f module to calculate the F-value and p-value. The ddof parameter in the np.var function is set to 1 to calculate the sample variance (with Bessel's correction).\n",
    "\n",
    "# You can use this function by passing in two arrays of data, and it will return the F-value and corresponding p-value for the variance ratio test."
   ]
  },
  {
   "cell_type": "code",
   "execution_count": null,
   "id": "b59e2ff1-4c15-4ea0-bc95-b6d6a14b453d",
   "metadata": {},
   "outputs": [],
   "source": [
    "#Ans 2"
   ]
  },
  {
   "cell_type": "code",
   "execution_count": null,
   "id": "0f06d04b-ce7f-4aa4-a106-ab6357e5cda9",
   "metadata": {},
   "outputs": [],
   "source": [
    "from scipy.stats import f\n",
    "\n",
    "def calculate_critical_f_value(alpha, dfn, dfd):\n",
    "    # Calculate the critical F-value\n",
    "    critical_f_value = f.ppf(1 - alpha / 2, dfn, dfd)\n",
    "\n",
    "    return critical_f_value\n"
   ]
  },
  {
   "cell_type": "code",
   "execution_count": 4,
   "id": "8ec7e66c-1703-4cbb-b9d0-79993350179c",
   "metadata": {},
   "outputs": [],
   "source": [
    "# In this function, alpha represents the significance level, dfn represents the degrees of freedom for the numerator, and dfd represents the degrees of freedom for the denominator.\n",
    "\n",
    "# The f.ppf function from scipy.stats.f is used to calculate the critical F-value. The ppf function stands for \"percent point function\" and returns the value corresponding to the given percentile (in this case, 1 - alpha / 2) for a specific distribution.\n",
    "\n",
    "# By calling this function and passing in the significance level and the degrees of freedom, it will return the critical F-value for a two-tailed test."
   ]
  },
  {
   "cell_type": "code",
   "execution_count": 5,
   "id": "430b12fb-1de4-4e26-821a-f416bc7ecdf3",
   "metadata": {},
   "outputs": [],
   "source": [
    "#Ans 3"
   ]
  },
  {
   "cell_type": "code",
   "execution_count": 6,
   "id": "c0c85bb6-6d49-4149-864a-af0a30aea232",
   "metadata": {},
   "outputs": [
    {
     "name": "stdout",
     "output_type": "stream",
     "text": [
      "F-value: 0.6297599051193529\n",
      "Degrees of Freedom (numerator, denominator): 99 99\n",
      "p-value: 0.9888323302709154\n"
     ]
    }
   ],
   "source": [
    "import numpy as np\n",
    "from scipy.stats import f\n",
    "\n",
    "def perform_f_test(sample1, sample2):\n",
    "    # Calculate the variances of the two samples\n",
    "    var1 = np.var(sample1, ddof=1)\n",
    "    var2 = np.var(sample2, ddof=1)\n",
    "\n",
    "    # Calculate the F-value\n",
    "    f_value = var1 / var2\n",
    "\n",
    "    # Calculate the degrees of freedom\n",
    "    dof1 = len(sample1) - 1\n",
    "    dof2 = len(sample2) - 1\n",
    "\n",
    "    # Calculate the p-value\n",
    "    p_value = f.sf(f_value, dof1, dof2)\n",
    "\n",
    "    return f_value, dof1, dof2, p_value\n",
    "\n",
    "# Generate random samples from two normal distributions\n",
    "np.random.seed(42)  # Set random seed for reproducibility\n",
    "sample1 = np.random.normal(loc=0, scale=1, size=100)\n",
    "sample2 = np.random.normal(loc=0, scale=1.2, size=100)\n",
    "\n",
    "# Perform F-test\n",
    "f_value, dof1, dof2, p_value = perform_f_test(sample1, sample2)\n",
    "\n",
    "# Output the results\n",
    "print(\"F-value:\", f_value)\n",
    "print(\"Degrees of Freedom (numerator, denominator):\", dof1, dof2)\n",
    "print(\"p-value:\", p_value)\n"
   ]
  },
  {
   "cell_type": "code",
   "execution_count": 7,
   "id": "c425f6e9-4e9b-451a-9cff-cedce642aee3",
   "metadata": {},
   "outputs": [],
   "source": [
    "# In this program, we use the numpy library to generate random samples from two normal distributions with known variances. The np.random.normal function is used to generate the samples, where loc represents the mean and scale represents the standard deviation.\n",
    "\n",
    "# The perform_f_test function calculates the F-value, degrees of freedom, and p-value using the formula and functions we discussed earlier. It takes in the two samples as input and returns the calculated values.\n",
    "\n",
    "# After generating the random samples and performing the F-test, the program outputs the F-value, degrees of freedom (numerator and denominator), and p-value for the test."
   ]
  },
  {
   "cell_type": "code",
   "execution_count": 8,
   "id": "d092598b-a4da-4e76-95b5-d10f75265a59",
   "metadata": {},
   "outputs": [],
   "source": [
    "#Ans 4"
   ]
  },
  {
   "cell_type": "code",
   "execution_count": 9,
   "id": "1adee1af-11b3-4fa5-bc9d-84b4dc5b3833",
   "metadata": {},
   "outputs": [],
   "source": [
    "# To conduct an F-test at the 5% significance level to determine if the variances of two populations are significantly different, we can follow these steps:\n",
    "\n",
    "# Step 1: State the null and alternative hypotheses:\n",
    "\n",
    "# Null hypothesis (H0): The variances of the two populations are equal.\n",
    "# Alternative hypothesis (H1): The variances of the two populations are significantly different.\n",
    "# Step 2: Set the significance level (α) to 0.05.\n",
    "\n",
    "# Step 3: Determine the degrees of freedom for the numerator and denominator:\n",
    "\n",
    "# For the numerator degrees of freedom (dfn), it is the number of observations in one sample minus 1: dfn = n1 - 1 = 12 - 1 = 11.\n",
    "# For the denominator degrees of freedom (dfd), it is the number of observations in the other sample minus 1: dfd = n2 - 1 = 12 - 1 = 11.\n",
    "# Step 4: Calculate the critical F-value using the significance level and degrees of freedom. The critical F-value can be obtained from statistical tables or using Python code.\n",
    "\n",
    "# Step 5: Perform the F-test by calculating the F-value using the known variances and the degrees of freedom.\n",
    "\n",
    "# Step 6: Compare the calculated F-value with the critical F-value.\n",
    "\n",
    "# If the calculated F-value is greater than the critical F-value, reject the null hypothesis (H0) and conclude that the variances are significantly different.\n",
    "# If the calculated F-value is less than or equal to the critical F-value, fail to reject the null hypothesis (H0) and conclude that there is no significant difference in the variances."
   ]
  },
  {
   "cell_type": "code",
   "execution_count": 10,
   "id": "5308e352-726d-45e6-93c1-5494d1e09444",
   "metadata": {},
   "outputs": [
    {
     "name": "stdout",
     "output_type": "stream",
     "text": [
      "Fail to reject the null hypothesis. No significant difference in variances.\n"
     ]
    }
   ],
   "source": [
    "import scipy.stats as stats\n",
    "\n",
    "# Step 1: State the null and alternative hypotheses\n",
    "# H0: Variances are equal\n",
    "# H1: Variances are significantly different\n",
    "\n",
    "# Step 2: Set the significance level (α)\n",
    "alpha = 0.05\n",
    "\n",
    "# Step 3: Determine the degrees of freedom\n",
    "dfn = 11\n",
    "dfd = 11\n",
    "\n",
    "# Step 4: Calculate the critical F-value\n",
    "critical_f_value = stats.f.ppf(1 - alpha/2, dfn, dfd)\n",
    "\n",
    "# Step 5: Perform the F-test\n",
    "variance1 = 10\n",
    "variance2 = 15\n",
    "\n",
    "f_value = variance1 / variance2\n",
    "\n",
    "# Step 6: Compare the calculated F-value with the critical F-value\n",
    "if f_value > critical_f_value:\n",
    "    print(\"Reject the null hypothesis. Variances are significantly different.\")\n",
    "else:\n",
    "    print(\"Fail to reject the null hypothesis. No significant difference in variances.\")\n"
   ]
  },
  {
   "cell_type": "code",
   "execution_count": 11,
   "id": "e720cbf6-4780-495d-8e23-18c1a6a88100",
   "metadata": {},
   "outputs": [],
   "source": [
    "# In this code, we use the scipy.stats.f.ppf function to calculate the critical F-value. The ppf function returns the value corresponding to the given percentile (in this case, 1 - alpha/2) for the F-distribution with the given degrees of freedom.\n",
    "\n",
    "# After calculating the critical F-value and performing the F-test by calculating the F-value from the known variances, we compare the calculated F-value with the critical F-value. If the calculated F-value is greater than the critical F-value, we reject the null hypothesis and conclude that the variances are significantly different. Otherwise, if the calculated F-value is less than or equal to the critical F-value, we fail to reject the null hypothesis and conclude that there is no significant difference in the variances."
   ]
  },
  {
   "cell_type": "code",
   "execution_count": 12,
   "id": "8ca61e0b-0079-4631-b35a-c34627dd8662",
   "metadata": {},
   "outputs": [],
   "source": [
    "#Ans 5"
   ]
  },
  {
   "cell_type": "code",
   "execution_count": 13,
   "id": "363d95ff-ffe8-4e97-849e-904a66a32859",
   "metadata": {},
   "outputs": [],
   "source": [
    "# To conduct an F-test at the 1% significance level to determine if the claim made by the manufacturer is justified, we can follow these steps:\n",
    "\n",
    "# Step 1: State the null and alternative hypotheses:\n",
    "\n",
    "# Null hypothesis (H0): The variance of the diameter of the product is equal to 0.005.\n",
    "# Alternative hypothesis (H1): The variance of the diameter of the product is not equal to 0.005.\n",
    "# Step 2: Set the significance level (α) to 0.01.\n",
    "\n",
    "# Step 3: Determine the degrees of freedom for the numerator and denominator:\n",
    "\n",
    "# For the numerator degrees of freedom (dfn), it is the number of observations in the sample minus 1: dfn = n - 1 = 25 - 1 = 24.\n",
    "# For the denominator degrees of freedom (dfd), it is the degrees of freedom associated with the claim made by the manufacturer, which is 0.005: dfd = n - 1 = 25 - 1 = 24.\n",
    "# Step 4: Calculate the critical F-value using the significance level and degrees of freedom. The critical F-value can be obtained from statistical tables or using Python code.\n",
    "\n",
    "# Step 5: Perform the F-test by calculating the F-value using the sample variance and the claim variance, and the degrees of freedom.\n",
    "\n",
    "# Step 6: Compare the calculated F-value with the critical F-value.\n",
    "\n",
    "# If the calculated F-value is greater than the critical F-value or less than the inverse of the critical F-value, reject the null hypothesis (H0) and conclude that the claim is not justified.\n",
    "# If the calculated F-value is between the critical F-value and the inverse of the critical F-value, fail to reject the null hypothesis (H0) and conclude that the claim is justified.\n",
    "# Let's calculate the critical F-value and perform the F-test using Python:"
   ]
  },
  {
   "cell_type": "code",
   "execution_count": 14,
   "id": "b2381e68-4158-4229-87b5-a928c89d6a48",
   "metadata": {},
   "outputs": [
    {
     "name": "stdout",
     "output_type": "stream",
     "text": [
      "Fail to reject the null hypothesis. The claim is justified.\n"
     ]
    }
   ],
   "source": [
    "import scipy.stats as stats\n",
    "\n",
    "# Step 1: State the null and alternative hypotheses\n",
    "# H0: Variance is equal to 0.005\n",
    "# H1: Variance is not equal to 0.005\n",
    "\n",
    "# Step 2: Set the significance level (α)\n",
    "alpha = 0.01\n",
    "\n",
    "# Step 3: Determine the degrees of freedom\n",
    "dfn = 24\n",
    "dfd = 24\n",
    "\n",
    "# Step 4: Calculate the critical F-value\n",
    "critical_f_value_lower = stats.f.ppf(alpha/2, dfn, dfd)\n",
    "critical_f_value_upper = stats.f.ppf(1 - alpha/2, dfn, dfd)\n",
    "\n",
    "# Step 5: Perform the F-test\n",
    "claim_variance = 0.005\n",
    "sample_variance = 0.006\n",
    "\n",
    "f_value = sample_variance / claim_variance\n",
    "\n",
    "# Step 6: Compare the calculated F-value with the critical F-value\n",
    "if f_value < critical_f_value_lower or f_value > critical_f_value_upper:\n",
    "    print(\"Reject the null hypothesis. The claim is not justified.\")\n",
    "else:\n",
    "    print(\"Fail to reject the null hypothesis. The claim is justified.\")\n"
   ]
  },
  {
   "cell_type": "code",
   "execution_count": 15,
   "id": "e6ea83fb-d830-4070-ab00-d4edb88292ff",
   "metadata": {},
   "outputs": [],
   "source": [
    "# In this code, we use the scipy.stats.f.ppf function to calculate the critical F-values for the lower and upper tails of the F-distribution. The ppf function returns the value corresponding to the given percentile (in this case, alpha/2 for the lower tail and 1 - alpha/2 for the upper tail) for the F-distribution with the given degrees of freedom.\n",
    "\n",
    "# After calculating the critical F-values and performing the F-test by calculating the F-value from the sample variance and the claim variance, we compare the calculated F-value with the critical F-values. If the calculated F-value is less than the critical F-value for the lower tail or greater than the critical F-value for the upper tail, we reject the null hypothesis and conclude that the claim made by the manufacturer is not justified. Otherwise, if the calculated F-value is between the critical F-values, we fail to reject the null hypothesis and conclude that the claim is justified."
   ]
  },
  {
   "cell_type": "code",
   "execution_count": 16,
   "id": "03521322-99f1-40e1-b3ed-449a0f80fcc9",
   "metadata": {},
   "outputs": [],
   "source": [
    "#Ans 6"
   ]
  },
  {
   "cell_type": "code",
   "execution_count": 17,
   "id": "285c5d65-5737-475f-b843-eb21067a967e",
   "metadata": {},
   "outputs": [],
   "source": [
    "def calculate_f_distribution_stats(dfn, dfd):\n",
    "    # Calculate the mean of the F-distribution\n",
    "    mean = dfd / (dfd - 2)\n",
    "\n",
    "    # Calculate the variance of the F-distribution\n",
    "    variance = (2 * (dfd ** 2) * (dfn + dfd - 2)) / (dfn * ((dfd - 2) ** 2) * (dfd - 4))\n",
    "\n",
    "    return mean, variance\n"
   ]
  },
  {
   "cell_type": "code",
   "execution_count": 18,
   "id": "7b38fd76-f2d3-48fa-8f1c-e0181e837857",
   "metadata": {},
   "outputs": [],
   "source": [
    "# In this function, dfn represents the degrees of freedom for the numerator, and dfd represents the degrees of freedom for the denominator.\n",
    "\n",
    "# The mean of the F-distribution is calculated as dfd / (dfd - 2), and the variance is calculated using the formula (2 * (dfd ** 2) * (dfn + dfd - 2)) / (dfn * ((dfd - 2) ** 2) * (dfd - 4)).\n",
    "\n",
    "# The function returns the mean and variance as a tuple.\n",
    "\n",
    "# You can use this function by passing in the degrees of freedom for the numerator and denominator, and it will calculate and return the mean and variance of the F-distribution."
   ]
  },
  {
   "cell_type": "code",
   "execution_count": 19,
   "id": "8fd32360-6f01-4cbb-b9d2-33f398fc459e",
   "metadata": {},
   "outputs": [],
   "source": [
    "#Ans 7"
   ]
  },
  {
   "cell_type": "code",
   "execution_count": 20,
   "id": "1611ebb5-4cd0-498d-ba68-01608bd0e1e2",
   "metadata": {},
   "outputs": [],
   "source": [
    "# To conduct an F-test at the 10% significance level to determine if the variances of the two populations are significantly different, we can follow these steps:\n",
    "\n",
    "# Step 1: State the null and alternative hypotheses:\n",
    "\n",
    "# Null hypothesis (H0): The variances of the two populations are equal.\n",
    "# Alternative hypothesis (H1): The variances of the two populations are significantly different.\n",
    "# Step 2: Set the significance level (α) to 0.10.\n",
    "\n",
    "# Step 3: Determine the degrees of freedom for the numerator and denominator:\n",
    "\n",
    "# For the numerator degrees of freedom (dfn), it is the number of observations in the first sample minus 1: dfn = n1 - 1 = 10 - 1 = 9.\n",
    "# For the denominator degrees of freedom (dfd), it is the number of observations in the second sample minus 1: dfd = n2 - 1 = 15 - 1 = 14.\n",
    "# Step 4: Calculate the critical F-value using the significance level and degrees of freedom. The critical F-value can be obtained from statistical tables or using Python code.\n",
    "\n",
    "# Step 5: Perform the F-test by calculating the F-value using the sample variances and the degrees of freedom.\n",
    "\n",
    "# Step 6: Compare the calculated F-value with the critical F-value.\n",
    "\n",
    "# If the calculated F-value is greater than the critical F-value or less than the inverse of the critical F-value, reject the null hypothesis (H0) and conclude that the variances are significantly different.\n",
    "# If the calculated F-value is between the critical F-value and the inverse of the critical F-value, fail to reject the null hypothesis (H0) and conclude that there is no significant difference in the variances.\n",
    "# Let's calculate the critical F-value and perform the F-test using Python:"
   ]
  },
  {
   "cell_type": "code",
   "execution_count": 21,
   "id": "292acdcb-4ef2-43ff-b768-1ecfcc88cfb6",
   "metadata": {},
   "outputs": [
    {
     "name": "stdout",
     "output_type": "stream",
     "text": [
      "Fail to reject the null hypothesis. No significant difference in variances.\n"
     ]
    }
   ],
   "source": [
    "import scipy.stats as stats\n",
    "\n",
    "# Step 1: State the null and alternative hypotheses\n",
    "# H0: Variances are equal\n",
    "# H1: Variances are significantly different\n",
    "\n",
    "# Step 2: Set the significance level (α)\n",
    "alpha = 0.10\n",
    "\n",
    "# Step 3: Determine the degrees of freedom\n",
    "dfn = 9\n",
    "dfd = 14\n",
    "\n",
    "# Step 4: Calculate the critical F-value\n",
    "critical_f_value_lower = stats.f.ppf(alpha/2, dfn, dfd)\n",
    "critical_f_value_upper = stats.f.ppf(1 - alpha/2, dfn, dfd)\n",
    "\n",
    "# Step 5: Perform the F-test\n",
    "sample_variance1 = 25\n",
    "sample_variance2 = 20\n",
    "\n",
    "f_value = sample_variance1 / sample_variance2\n",
    "\n",
    "# Step 6: Compare the calculated F-value with the critical F-value\n",
    "if f_value < critical_f_value_lower or f_value > critical_f_value_upper:\n",
    "    print(\"Reject the null hypothesis. Variances are significantly different.\")\n",
    "else:\n",
    "    print(\"Fail to reject the null hypothesis. No significant difference in variances.\")\n"
   ]
  },
  {
   "cell_type": "code",
   "execution_count": 22,
   "id": "8f0a2ab4-460a-4286-9811-b88914b38aab",
   "metadata": {},
   "outputs": [],
   "source": [
    "# In this code, we use the scipy.stats.f.ppf function to calculate the critical F-values for the lower and upper tails of the F-distribution. The ppf function returns the value corresponding to the given percentile (in this case, alpha/2 for the lower tail and 1 - alpha/2 for the upper tail) for the F-distribution with the given degrees of freedom.\n",
    "\n",
    "# After calculating the critical F-values and performing the F-test by calculating the F-value from the sample variances and the degrees of freedom, we compare the calculated F-value with the critical F-values. If the calculated F-value is less than the critical F-value for the lower tail or greater than the critical F-value for the upper tail, we reject the null hypothesis and conclude that the"
   ]
  },
  {
   "cell_type": "code",
   "execution_count": 23,
   "id": "d54dd9a5-41b4-4a2e-9698-05aecc62f66d",
   "metadata": {},
   "outputs": [],
   "source": [
    "#Ans 8"
   ]
  },
  {
   "cell_type": "code",
   "execution_count": 24,
   "id": "ff41b5f3-46a7-4d95-965b-929be59e70cf",
   "metadata": {},
   "outputs": [],
   "source": [
    "# To conduct an F-test at the 5% significance level to determine if the variances of waiting times at two different restaurants are significantly different, we can follow these steps:\n",
    "\n",
    "# Step 1: State the null and alternative hypotheses:\n",
    "\n",
    "# Null hypothesis (H0): The variances of waiting times at the two restaurants are equal.\n",
    "# Alternative hypothesis (H1): The variances of waiting times at the two restaurants are significantly different.\n",
    "# Step 2: Set the significance level (α) to 0.05.\n",
    "\n",
    "# Step 3: Calculate the sample variances for the waiting times at each restaurant.\n",
    "\n",
    "# Step 4: Determine the degrees of freedom for the numerator and denominator:\n",
    "\n",
    "# For the numerator degrees of freedom (dfn), it is the number of observations in one sample minus 1.\n",
    "# For the denominator degrees of freedom (dfd), it is the number of observations in the other sample minus 1.\n",
    "# Step 5: Calculate the F-value using the sample variances and the degrees of freedom.\n",
    "\n",
    "# Step 6: Compare the calculated F-value with the critical F-value.\n",
    "\n",
    "# If the calculated F-value is greater than the critical F-value, reject the null hypothesis (H0) and conclude that the variances are significantly different.\n",
    "# If the calculated F-value is less than or equal to the critical F-value, fail to reject the null hypothesis (H0) and conclude that there is no significant difference in the variances."
   ]
  },
  {
   "cell_type": "code",
   "execution_count": 25,
   "id": "e0196f5d-b11b-4428-bb36-e8b6eb99ba5b",
   "metadata": {},
   "outputs": [
    {
     "name": "stdout",
     "output_type": "stream",
     "text": [
      "Fail to reject the null hypothesis. No significant difference in variances.\n"
     ]
    }
   ],
   "source": [
    "import numpy as np\n",
    "import scipy.stats as stats\n",
    "\n",
    "# Step 1: State the null and alternative hypotheses\n",
    "# H0: Variances are equal\n",
    "# H1: Variances are significantly different\n",
    "\n",
    "# Step 2: Set the significance level (α)\n",
    "alpha = 0.05\n",
    "\n",
    "# Step 3: Calculate the sample variances\n",
    "waiting_times_a = np.array([24, 25, 28, 23, 22, 20, 27])\n",
    "waiting_times_b = np.array([31, 33, 35, 30, 32, 36])\n",
    "\n",
    "variance_a = np.var(waiting_times_a, ddof=1)\n",
    "variance_b = np.var(waiting_times_b, ddof=1)\n",
    "\n",
    "# Step 4: Determine the degrees of freedom\n",
    "dfn = len(waiting_times_a) - 1\n",
    "dfd = len(waiting_times_b) - 1\n",
    "\n",
    "# Step 5: Calculate the F-value\n",
    "f_value = variance_a / variance_b\n",
    "\n",
    "# Step 6: Compare the calculated F-value with the critical F-value\n",
    "critical_f_value = stats.f.ppf(1 - alpha, dfn, dfd)\n",
    "\n",
    "if f_value > critical_f_value:\n",
    "    print(\"Reject the null hypothesis. Variances are significantly different.\")\n",
    "else:\n",
    "    print(\"Fail to reject the null hypothesis. No significant difference in variances.\")\n"
   ]
  },
  {
   "cell_type": "code",
   "execution_count": null,
   "id": "0ae40aee-efc3-43d6-b0df-08c68a6e3f36",
   "metadata": {},
   "outputs": [],
   "source": []
  }
 ],
 "metadata": {
  "kernelspec": {
   "display_name": "Python 3 (ipykernel)",
   "language": "python",
   "name": "python3"
  },
  "language_info": {
   "codemirror_mode": {
    "name": "ipython",
    "version": 3
   },
   "file_extension": ".py",
   "mimetype": "text/x-python",
   "name": "python",
   "nbconvert_exporter": "python",
   "pygments_lexer": "ipython3",
   "version": "3.10.8"
  }
 },
 "nbformat": 4,
 "nbformat_minor": 5
}
